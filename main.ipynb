{
 "cells": [
  {
   "cell_type": "code",
   "execution_count": 3,
   "metadata": {},
   "outputs": [],
   "source": [
    "import requests\n",
    "from bs4 import BeautifulSoup\n",
    "\n",
    "baseUrl = 'https://www.wine.com'\n",
    "\n",
    "page = requests.get(f'{baseUrl}/list/wine/red-wine/7155-124?showOutOfStock=true')\n",
    "\n",
    "soup = BeautifulSoup(page.text, 'html.parser')\n"
   ]
  },
  {
   "cell_type": "code",
   "execution_count": 4,
   "metadata": {},
   "outputs": [],
   "source": [
    "wineList = soup.find('ul', class_='listGridLayout_list')\n",
    "wineElements = wineList.find_all('li', class_='listGridLayout_listItem')"
   ]
  },
  {
   "cell_type": "code",
   "execution_count": 25,
   "metadata": {},
   "outputs": [
    {
     "name": "stdout",
     "output_type": "stream",
     "text": [
      "https://www.wine.com/product/antinori-badia-a-passignano-chianti-classico-gran-selezione-2018/806034\n"
     ]
    },
    {
     "ename": "AttributeError",
     "evalue": "'NoneType' object has no attribute 'find_all'",
     "output_type": "error",
     "traceback": [
      "\u001b[1;31m---------------------------------------------------------------------------\u001b[0m",
      "\u001b[1;31mAttributeError\u001b[0m                            Traceback (most recent call last)",
      "\u001b[1;32md:\\Dudu\\CCO\\Mestrado\\Disciplinas\\INE410136 - Content Detection and Analysis on Big Web Data\\Trabalho\\main.ipynb Cell 3\u001b[0m line \u001b[0;36m<cell line: 1>\u001b[1;34m()\u001b[0m\n\u001b[0;32m     <a href='vscode-notebook-cell:/d%3A/Dudu/CCO/Mestrado/Disciplinas/INE410136%20-%20Content%20Detection%20and%20Analysis%20on%20Big%20Web%20Data/Trabalho/main.ipynb#W2sZmlsZQ%3D%3D?line=64'>65</a>\u001b[0m divImage \u001b[39m=\u001b[39m wineSoup\u001b[39m.\u001b[39mfind(\u001b[39m'\u001b[39m\u001b[39mdiv\u001b[39m\u001b[39m'\u001b[39m, class_\u001b[39m=\u001b[39m\u001b[39m'\u001b[39m\u001b[39mpipProdThumbs\u001b[39m\u001b[39m'\u001b[39m)\n\u001b[0;32m     <a href='vscode-notebook-cell:/d%3A/Dudu/CCO/Mestrado/Disciplinas/INE410136%20-%20Content%20Detection%20and%20Analysis%20on%20Big%20Web%20Data/Trabalho/main.ipynb#W2sZmlsZQ%3D%3D?line=65'>66</a>\u001b[0m images \u001b[39m=\u001b[39m []\n\u001b[1;32m---> <a href='vscode-notebook-cell:/d%3A/Dudu/CCO/Mestrado/Disciplinas/INE410136%20-%20Content%20Detection%20and%20Analysis%20on%20Big%20Web%20Data/Trabalho/main.ipynb#W2sZmlsZQ%3D%3D?line=66'>67</a>\u001b[0m \u001b[39mfor\u001b[39;00m imageSpan \u001b[39min\u001b[39;00m divImage\u001b[39m.\u001b[39mfind_all(\u001b[39m'\u001b[39m\u001b[39mspan\u001b[39m\u001b[39m'\u001b[39m, class_\u001b[39m=\u001b[39m\u001b[39m'\u001b[39m\u001b[39mpipProdThumb\u001b[39m\u001b[39m'\u001b[39m):\n\u001b[0;32m     <a href='vscode-notebook-cell:/d%3A/Dudu/CCO/Mestrado/Disciplinas/INE410136%20-%20Content%20Detection%20and%20Analysis%20on%20Big%20Web%20Data/Trabalho/main.ipynb#W2sZmlsZQ%3D%3D?line=67'>68</a>\u001b[0m     images\u001b[39m.\u001b[39mappend(imageSpan\u001b[39m.\u001b[39mfind(\u001b[39m'\u001b[39m\u001b[39mimg\u001b[39m\u001b[39m'\u001b[39m)[\u001b[39m'\u001b[39m\u001b[39msrc\u001b[39m\u001b[39m'\u001b[39m])\n\u001b[0;32m     <a href='vscode-notebook-cell:/d%3A/Dudu/CCO/Mestrado/Disciplinas/INE410136%20-%20Content%20Detection%20and%20Analysis%20on%20Big%20Web%20Data/Trabalho/main.ipynb#W2sZmlsZQ%3D%3D?line=68'>69</a>\u001b[0m \u001b[39mif\u001b[39;00m \u001b[39mlen\u001b[39m(images):\n",
      "\u001b[1;31mAttributeError\u001b[0m: 'NoneType' object has no attribute 'find_all'"
     ]
    }
   ],
   "source": [
    "for wineElem in wineElements[:3]:\n",
    "    wineInfo = { 'color': 'red' }\n",
    "    a = wineElem.find('a', class_='event_productClick', href=True)\n",
    "    \n",
    "    wineUrl = f\"{baseUrl}{a['href']}\"\n",
    "    print(wineUrl)\n",
    "\n",
    "    winePage = requests.get(wineUrl)\n",
    "    wineSoup = BeautifulSoup(winePage.text, 'html.parser')\n",
    "\n",
    "    # Name and vintage  \n",
    "    name = wineSoup.find('h1', class_='pipName').text\n",
    "    vintage = name[-4:]\n",
    "    name = name[:-4].strip()\n",
    "    wineInfo['name'] = name\n",
    "    wineInfo['vintage'] = vintage\n",
    "\n",
    "    # Varietal and Origin\n",
    "    divOrigin = wineSoup.find('div', class_='pipOrigin')\n",
    "\n",
    "    spanVarietal = divOrigin.find('span', class_='prodItemInfo_varietal')\n",
    "    varietal = spanVarietal.find('a', href=True).text\n",
    "    wineInfo['varietal'] = varietal\n",
    "\n",
    "    spanOrigin = divOrigin.find('span', class_='prodItemInfo_originText')\n",
    "    origin = spanOrigin.find('a', href=True).text\n",
    "    wineInfo['origin'] = origin\n",
    "\n",
    "    priceDiv = wineSoup.find('div', class_='productPrice_price-sale')\n",
    "    if priceDiv:\n",
    "        price = priceDiv.find('span', class_='productPrice_price-saleWhole').text.strip()\n",
    "        price += \".\" + priceDiv.find('span', class_='productPrice_price-saleFractional').text.strip()\n",
    "        wineInfo['price'] = float(price)\n",
    "\n",
    "    # Ratings\n",
    "    ulRatings = wineSoup.find('ul', class_='pipProdWineRatings')\n",
    "    if ulRatings:\n",
    "        ratings = []\n",
    "        ratingsList = ulRatings.find_all('li', class_='pipProdWineRatings_item')\n",
    "        for ratingElem in ratingsList:\n",
    "            ratingName = ratingElem.contents[2].strip() + \" \" + ratingElem.contents[4].strip()\n",
    "            \n",
    "            ratingValue = ratingElem.find('span', class_='pipProdWineRatings_rating').text\n",
    "\n",
    "            rating = {'name': ratingName, 'rating': int(ratingValue)}\n",
    "\n",
    "            ratings.append(rating)\n",
    "\n",
    "        wineInfo['ratings'] = ratings\n",
    "\n",
    "    productDetails = wineSoup.find('section', class_='pipProdDetails')\n",
    "    if productDetails:\n",
    "        titles = productDetails.find_all('div', class_='pipProdDetails_title')\n",
    "        values = productDetails.find_all('div', class_='pipProdDetails_name')\n",
    "        for i, title in enumerate(titles):\n",
    "            if title.text.strip() == 'Size':\n",
    "                wineInfo['size'] = values[i].text[:-2]\n",
    "            elif title.text.strip() == 'Producer':\n",
    "                wineInfo['producer'] = values[i].text\n",
    "                wineInfo['name'] = wineInfo['name'].replace(wineInfo['producer'], '').strip()\n",
    "    else:\n",
    "        size = wineSoup.find('span', class_='prodAlcoholVolume_text').text\n",
    "        wineInfo['size'] = size\n",
    "\n",
    "    divImage = wineSoup.find('div', class_='pipProdThumbs')\n",
    "    images = []\n",
    "    for imageSpan in divImage.find_all('span', class_='pipProdThumb'):\n",
    "        images.append(imageSpan.find('img')['src'])\n",
    "    if len(images):\n",
    "        wineInfo['image'] = images\n",
    "\n",
    "    for key, value in wineInfo.items():\n",
    "        print(f\"{key}: {value}\")\n",
    "    print()\n"
   ]
  },
  {
   "cell_type": "code",
   "execution_count": 33,
   "metadata": {},
   "outputs": [
    {
     "name": "stdout",
     "output_type": "stream",
     "text": [
      " Badia a Passignano Chianti Classico Gran Selezione 2018\n"
     ]
    }
   ],
   "source": [
    "text = 'Antinori Badia a Passignano Chianti Classico Gran Selezione 2018'\n",
    "\n",
    "print(text.replace('Antinori', ''))"
   ]
  }
 ],
 "metadata": {
  "kernelspec": {
   "display_name": "Python 3",
   "language": "python",
   "name": "python3"
  },
  "language_info": {
   "codemirror_mode": {
    "name": "ipython",
    "version": 3
   },
   "file_extension": ".py",
   "mimetype": "text/x-python",
   "name": "python",
   "nbconvert_exporter": "python",
   "pygments_lexer": "ipython3",
   "version": "3.10.11"
  }
 },
 "nbformat": 4,
 "nbformat_minor": 2
}
